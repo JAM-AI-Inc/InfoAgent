{
  "cells": [
    {
      "cell_type": "markdown",
      "metadata": {
        "id": "view-in-github",
        "colab_type": "text"
      },
      "source": [
        "<a href=\"https://colab.research.google.com/github/JAM-AI-Inc/InfoAgent/blob/main/InfoAgentScript.ipynb\" target=\"_parent\"><img src=\"https://colab.research.google.com/assets/colab-badge.svg\" alt=\"Open In Colab\"/></a>"
      ]
    },
    {
      "cell_type": "code",
      "execution_count": null,
      "metadata": {
        "colab": {
          "base_uri": "https://localhost:8080/"
        },
        "id": "Vdix8O9TupTP",
        "outputId": "436eb7bc-b6f0-4cbb-ea43-b93401b091cd"
      },
      "outputs": [
        {
          "name": "stdout",
          "output_type": "stream",
          "text": [
            "\u001b[2K     \u001b[90m━━━━━━━━━━━━━━━━━━━━━━━━━━━━━━━━━━━━━━━━\u001b[0m \u001b[32m61.6/61.6 kB\u001b[0m \u001b[31m1.4 MB/s\u001b[0m eta \u001b[36m0:00:00\u001b[0m\n",
            "\u001b[2K     \u001b[90m━━━━━━━━━━━━━━━━━━━━━━━━━━━━━━━━━━━━━━━━\u001b[0m \u001b[32m194.4/194.4 kB\u001b[0m \u001b[31m4.6 MB/s\u001b[0m eta \u001b[36m0:00:00\u001b[0m\n",
            "\u001b[2K     \u001b[90m━━━━━━━━━━━━━━━━━━━━━━━━━━━━━━━━━━━━━━━━\u001b[0m \u001b[32m867.6/867.6 kB\u001b[0m \u001b[31m6.7 MB/s\u001b[0m eta \u001b[36m0:00:00\u001b[0m\n",
            "\u001b[2K     \u001b[90m━━━━━━━━━━━━━━━━━━━━━━━━━━━━━━━━━━━━━━━━\u001b[0m \u001b[32m312.9/312.9 kB\u001b[0m \u001b[31m6.6 MB/s\u001b[0m eta \u001b[36m0:00:00\u001b[0m\n",
            "\u001b[2K     \u001b[90m━━━━━━━━━━━━━━━━━━━━━━━━━━━━━━━━━━━━━━━━\u001b[0m \u001b[32m60.1/60.1 kB\u001b[0m \u001b[31m2.4 MB/s\u001b[0m eta \u001b[36m0:00:00\u001b[0m\n",
            "\u001b[2K     \u001b[90m━━━━━━━━━━━━━━━━━━━━━━━━━━━━━━━━━━━━━━━━\u001b[0m \u001b[32m106.1/106.1 kB\u001b[0m \u001b[31m6.5 MB/s\u001b[0m eta \u001b[36m0:00:00\u001b[0m\n",
            "\u001b[2K     \u001b[90m━━━━━━━━━━━━━━━━━━━━━━━━━━━━━━━━━━━━━━━━\u001b[0m \u001b[32m233.4/233.4 kB\u001b[0m \u001b[31m14.5 MB/s\u001b[0m eta \u001b[36m0:00:00\u001b[0m\n",
            "\u001b[2K     \u001b[90m━━━━━━━━━━━━━━━━━━━━━━━━━━━━━━━━━━━━━━━━\u001b[0m \u001b[32m526.8/526.8 kB\u001b[0m \u001b[31m15.8 MB/s\u001b[0m eta \u001b[36m0:00:00\u001b[0m\n",
            "\u001b[2K     \u001b[90m━━━━━━━━━━━━━━━━━━━━━━━━━━━━━━━━━━━━━━━━\u001b[0m \u001b[32m131.5/131.5 kB\u001b[0m \u001b[31m12.3 MB/s\u001b[0m eta \u001b[36m0:00:00\u001b[0m\n",
            "\u001b[2K     \u001b[90m━━━━━━━━━━━━━━━━━━━━━━━━━━━━━━━━━━━━━━━━\u001b[0m \u001b[32m41.3/41.3 kB\u001b[0m \u001b[31m4.3 MB/s\u001b[0m eta \u001b[36m0:00:00\u001b[0m\n",
            "\u001b[2K     \u001b[90m━━━━━━━━━━━━━━━━━━━━━━━━━━━━━━━━━━━━━━━━\u001b[0m \u001b[32m290.4/290.4 kB\u001b[0m \u001b[31m13.7 MB/s\u001b[0m eta \u001b[36m0:00:00\u001b[0m\n",
            "\u001b[2K     \u001b[90m━━━━━━━━━━━━━━━━━━━━━━━━━━━━━━━━━━━━━━━━\u001b[0m \u001b[32m71.1/71.1 kB\u001b[0m \u001b[31m7.5 MB/s\u001b[0m eta \u001b[36m0:00:00\u001b[0m\n",
            "\u001b[2K     \u001b[90m━━━━━━━━━━━━━━━━━━━━━━━━━━━━━━━━━━━━━━━━\u001b[0m \u001b[32m2.0/2.0 MB\u001b[0m \u001b[31m21.1 MB/s\u001b[0m eta \u001b[36m0:00:00\u001b[0m\n",
            "\u001b[2K     \u001b[90m━━━━━━━━━━━━━━━━━━━━━━━━━━━━━━━━━━━━━━━━\u001b[0m \u001b[32m2.0/2.0 MB\u001b[0m \u001b[31m32.9 MB/s\u001b[0m eta \u001b[36m0:00:00\u001b[0m\n",
            "\u001b[2K     \u001b[90m━━━━━━━━━━━━━━━━━━━━━━━━━━━━━━━━━━━━━━━━\u001b[0m \u001b[32m302.8/302.8 kB\u001b[0m \u001b[31m19.9 MB/s\u001b[0m eta \u001b[36m0:00:00\u001b[0m\n",
            "\u001b[2K     \u001b[90m━━━━━━━━━━━━━━━━━━━━━━━━━━━━━━━━━━━━━━━━\u001b[0m \u001b[32m116.7/116.7 kB\u001b[0m \u001b[31m9.6 MB/s\u001b[0m eta \u001b[36m0:00:00\u001b[0m\n",
            "\u001b[2K     \u001b[90m━━━━━━━━━━━━━━━━━━━━━━━━━━━━━━━━━━━━━━━━\u001b[0m \u001b[32m75.6/75.6 kB\u001b[0m \u001b[31m6.6 MB/s\u001b[0m eta \u001b[36m0:00:00\u001b[0m\n",
            "\u001b[2K     \u001b[90m━━━━━━━━━━━━━━━━━━━━━━━━━━━━━━━━━━━━━━━━\u001b[0m \u001b[32m50.8/50.8 kB\u001b[0m \u001b[31m3.9 MB/s\u001b[0m eta \u001b[36m0:00:00\u001b[0m\n",
            "\u001b[2K     \u001b[90m━━━━━━━━━━━━━━━━━━━━━━━━━━━━━━━━━━━━━━━━\u001b[0m \u001b[32m78.8/78.8 kB\u001b[0m \u001b[31m8.4 MB/s\u001b[0m eta \u001b[36m0:00:00\u001b[0m\n",
            "\u001b[2K     \u001b[90m━━━━━━━━━━━━━━━━━━━━━━━━━━━━━━━━━━━━━━━━\u001b[0m \u001b[32m2.4/2.4 MB\u001b[0m \u001b[31m31.0 MB/s\u001b[0m eta \u001b[36m0:00:00\u001b[0m\n",
            "\u001b[2K     \u001b[90m━━━━━━━━━━━━━━━━━━━━━━━━━━━━━━━━━━━━━━━━\u001b[0m \u001b[32m92.0/92.0 kB\u001b[0m \u001b[31m5.6 MB/s\u001b[0m eta \u001b[36m0:00:00\u001b[0m\n",
            "\u001b[2K     \u001b[90m━━━━━━━━━━━━━━━━━━━━━━━━━━━━━━━━━━━━━━━━\u001b[0m \u001b[32m60.8/60.8 kB\u001b[0m \u001b[31m5.0 MB/s\u001b[0m eta \u001b[36m0:00:00\u001b[0m\n",
            "\u001b[2K     \u001b[90m━━━━━━━━━━━━━━━━━━━━━━━━━━━━━━━━━━━━━━━━\u001b[0m \u001b[32m6.8/6.8 MB\u001b[0m \u001b[31m54.5 MB/s\u001b[0m eta \u001b[36m0:00:00\u001b[0m\n",
            "\u001b[2K     \u001b[90m━━━━━━━━━━━━━━━━━━━━━━━━━━━━━━━━━━━━━━━━\u001b[0m \u001b[32m67.3/67.3 kB\u001b[0m \u001b[31m6.2 MB/s\u001b[0m eta \u001b[36m0:00:00\u001b[0m\n",
            "\u001b[?25h  Installing build dependencies ... \u001b[?25l\u001b[?25hdone\n",
            "  Getting requirements to build wheel ... \u001b[?25l\u001b[?25hdone\n",
            "  Preparing metadata (pyproject.toml) ... \u001b[?25l\u001b[?25hdone\n",
            "\u001b[2K     \u001b[90m━━━━━━━━━━━━━━━━━━━━━━━━━━━━━━━━━━━━━━━━\u001b[0m \u001b[32m283.7/283.7 kB\u001b[0m \u001b[31m19.9 MB/s\u001b[0m eta \u001b[36m0:00:00\u001b[0m\n",
            "\u001b[2K     \u001b[90m━━━━━━━━━━━━━━━━━━━━━━━━━━━━━━━━━━━━━━━━\u001b[0m \u001b[32m1.6/1.6 MB\u001b[0m \u001b[31m41.3 MB/s\u001b[0m eta \u001b[36m0:00:00\u001b[0m\n",
            "\u001b[2K     \u001b[90m━━━━━━━━━━━━━━━━━━━━━━━━━━━━━━━━━━━━━━━━\u001b[0m \u001b[32m67.6/67.6 kB\u001b[0m \u001b[31m5.3 MB/s\u001b[0m eta \u001b[36m0:00:00\u001b[0m\n",
            "\u001b[2K     \u001b[90m━━━━━━━━━━━━━━━━━━━━━━━━━━━━━━━━━━━━━━━━\u001b[0m \u001b[32m142.5/142.5 kB\u001b[0m \u001b[31m2.3 MB/s\u001b[0m eta \u001b[36m0:00:00\u001b[0m\n",
            "\u001b[2K     \u001b[90m━━━━━━━━━━━━━━━━━━━━━━━━━━━━━━━━━━━━━━━━\u001b[0m \u001b[32m49.3/49.3 kB\u001b[0m \u001b[31m5.9 MB/s\u001b[0m eta \u001b[36m0:00:00\u001b[0m\n",
            "\u001b[2K     \u001b[90m━━━━━━━━━━━━━━━━━━━━━━━━━━━━━━━━━━━━━━━━\u001b[0m \u001b[32m77.9/77.9 kB\u001b[0m \u001b[31m10.1 MB/s\u001b[0m eta \u001b[36m0:00:00\u001b[0m\n",
            "\u001b[2K     \u001b[90m━━━━━━━━━━━━━━━━━━━━━━━━━━━━━━━━━━━━━━━━\u001b[0m \u001b[32m58.3/58.3 kB\u001b[0m \u001b[31m8.7 MB/s\u001b[0m eta \u001b[36m0:00:00\u001b[0m\n",
            "\u001b[2K     \u001b[90m━━━━━━━━━━━━━━━━━━━━━━━━━━━━━━━━━━━━━━━━\u001b[0m \u001b[32m53.0/53.0 kB\u001b[0m \u001b[31m5.1 MB/s\u001b[0m eta \u001b[36m0:00:00\u001b[0m\n",
            "\u001b[2K     \u001b[90m━━━━━━━━━━━━━━━━━━━━━━━━━━━━━━━━━━━━━━━━\u001b[0m \u001b[32m71.9/71.9 kB\u001b[0m \u001b[31m9.0 MB/s\u001b[0m eta \u001b[36m0:00:00\u001b[0m\n",
            "\u001b[2K     \u001b[90m━━━━━━━━━━━━━━━━━━━━━━━━━━━━━━━━━━━━━━━━\u001b[0m \u001b[32m53.2/53.2 kB\u001b[0m \u001b[31m7.2 MB/s\u001b[0m eta \u001b[36m0:00:00\u001b[0m\n",
            "\u001b[2K     \u001b[90m━━━━━━━━━━━━━━━━━━━━━━━━━━━━━━━━━━━━━━━━\u001b[0m \u001b[32m46.0/46.0 kB\u001b[0m \u001b[31m6.8 MB/s\u001b[0m eta \u001b[36m0:00:00\u001b[0m\n",
            "\u001b[2K     \u001b[90m━━━━━━━━━━━━━━━━━━━━━━━━━━━━━━━━━━━━━━━━\u001b[0m \u001b[32m341.4/341.4 kB\u001b[0m \u001b[31m29.2 MB/s\u001b[0m eta \u001b[36m0:00:00\u001b[0m\n",
            "\u001b[2K     \u001b[90m━━━━━━━━━━━━━━━━━━━━━━━━━━━━━━━━━━━━━━━━\u001b[0m \u001b[32m3.4/3.4 MB\u001b[0m \u001b[31m79.2 MB/s\u001b[0m eta \u001b[36m0:00:00\u001b[0m\n",
            "\u001b[2K     \u001b[90m━━━━━━━━━━━━━━━━━━━━━━━━━━━━━━━━━━━━━━━━\u001b[0m \u001b[32m1.3/1.3 MB\u001b[0m \u001b[31m80.7 MB/s\u001b[0m eta \u001b[36m0:00:00\u001b[0m\n",
            "\u001b[2K     \u001b[90m━━━━━━━━━━━━━━━━━━━━━━━━━━━━━━━━━━━━━━━━\u001b[0m \u001b[32m130.2/130.2 kB\u001b[0m \u001b[31m20.1 MB/s\u001b[0m eta \u001b[36m0:00:00\u001b[0m\n",
            "\u001b[2K     \u001b[90m━━━━━━━━━━━━━━━━━━━━━━━━━━━━━━━━━━━━━━━━\u001b[0m \u001b[32m307.7/307.7 kB\u001b[0m \u001b[31m37.2 MB/s\u001b[0m eta \u001b[36m0:00:00\u001b[0m\n",
            "\u001b[2K     \u001b[90m━━━━━━━━━━━━━━━━━━━━━━━━━━━━━━━━━━━━━━━━\u001b[0m \u001b[32m91.8/91.8 kB\u001b[0m \u001b[31m14.2 MB/s\u001b[0m eta \u001b[36m0:00:00\u001b[0m\n",
            "\u001b[2K     \u001b[90m━━━━━━━━━━━━━━━━━━━━━━━━━━━━━━━━━━━━━━━━\u001b[0m \u001b[32m86.8/86.8 kB\u001b[0m \u001b[31m13.9 MB/s\u001b[0m eta \u001b[36m0:00:00\u001b[0m\n",
            "\u001b[?25h  Building wheel for pypika (pyproject.toml) ... \u001b[?25l\u001b[?25hdone\n"
          ]
        }
      ],
      "source": [
        "!pip install -q crewai"
      ]
    },
    {
      "cell_type": "code",
      "execution_count": null,
      "metadata": {
        "id": "yLfp7aRFvI7g"
      },
      "outputs": [],
      "source": [
        "!pip install -q 'crewai[tools]'"
      ]
    },
    {
      "cell_type": "code",
      "execution_count": null,
      "metadata": {
        "colab": {
          "base_uri": "https://localhost:8080/"
        },
        "id": "2bemxQVZvne1",
        "outputId": "ff115432-eeda-4d25-f204-af7104deb42e"
      },
      "outputs": [
        {
          "name": "stdout",
          "output_type": "stream",
          "text": [
            "Requirement already satisfied: python-dotenv in /usr/local/lib/python3.10/dist-packages (1.0.0)\n"
          ]
        }
      ],
      "source": [
        "!pip install python-dotenv"
      ]
    },
    {
      "cell_type": "code",
      "execution_count": null,
      "metadata": {
        "colab": {
          "base_uri": "https://localhost:8080/"
        },
        "id": "TQufYW2mzVRj",
        "outputId": "dbf31311-bd44-4811-ab73-e6a1590aeb13"
      },
      "outputs": [
        {
          "name": "stdout",
          "output_type": "stream",
          "text": [
            "cannot find .env file\n"
          ]
        }
      ],
      "source": [
        "%load_ext dotenv\n",
        "%dotenv"
      ]
    },
    {
      "cell_type": "code",
      "execution_count": null,
      "metadata": {
        "colab": {
          "background_save": true
        },
        "id": "pRPHNMdE0Y52"
      },
      "outputs": [],
      "source": [
        "import os\n",
        "from crewai import Agent, Task, Crew, Process\n",
        "from crewai_tools import SerperDevTool"
      ]
    },
    {
      "cell_type": "code",
      "execution_count": null,
      "metadata": {
        "id": "nuQzyLvP0sXp"
      },
      "outputs": [],
      "source": [
        "search_tool = SerperDevTool()"
      ]
    },
    {
      "cell_type": "code",
      "execution_count": null,
      "metadata": {
        "id": "mvaFVRXd0w6D"
      },
      "outputs": [],
      "source": [
        "from langchain_openai import ChatOpenAI"
      ]
    },
    {
      "cell_type": "code",
      "execution_count": null,
      "metadata": {
        "id": "CwBwDbW81m0l"
      },
      "outputs": [],
      "source": [
        "researcher = Agent(\n",
        "    role = \"Senior Research Assistant\",\n",
        "    goal = \"Look up the latest advancements in AI Agents\",\n",
        "    backstory = \"\"\"You work at a leading tech think thank.\n",
        "    Your expertise lies in searching Google for AI Agent frameworks.\n",
        "    You have a knack for dissecting complex data and presenting actionable insights. \"\"\",\n",
        "    verbose=False,\n",
        "    allow_delegation=False,\n",
        "    tools=[search_tool],\n",
        "    llm=ChatOpenAI(model_name=\"gpt-4-turbo-preview\", temperature=0.3)\n",
        ")"
      ]
    },
    {
      "cell_type": "code",
      "execution_count": null,
      "metadata": {
        "id": "TEQB_u_w2aiJ"
      },
      "outputs": [],
      "source": [
        "writer = Agent(\n",
        "    role='Professional Short-Article Writer',\n",
        "    goal='summarize the latest advancement in AI agents in a concise article',\n",
        "    backstory=\"\"\"You are a renowned Content Strategist, known for your insightful and engaging articles.\n",
        "    You transform complex concepts into compelling narratives.\"\"\",\n",
        "    verbose=False,\n",
        "    allow_delegation=True,\n",
        "    llm=ChatOpenAI(model_name=\"gpt-4-turbo-preview\", temperature=0.7)\n",
        ")"
      ]
    },
    {
      "cell_type": "code",
      "execution_count": null,
      "metadata": {
        "id": "gRvVOt_L3lA_"
      },
      "outputs": [],
      "source": [
        "task1 = Task(\n",
        "    description = \"\"\"Conduct a comprehensive analysis of the latest advancements in AI agents in April 2024.\n",
        "    Identify key trends, breakthrough technologies, and potential industry impacts.\"\"\",\n",
        "    expected_output=\"Full analysis report in bullet points\",\n",
        "    agent=researcher\n",
        ")"
      ]
    },
    {
      "cell_type": "code",
      "execution_count": null,
      "metadata": {
        "id": "IwYirTGx4h2d"
      },
      "outputs": [],
      "source": [
        "task2 = Task(\n",
        "    description = \"\"\"Using the insights provided, write a short article\n",
        "    that highlights the most significant AI Agent advancements.\n",
        "    Your post should be informative yet accessible, catering to a tech-savvy audience.\n",
        "    Make it sound cool, avoid complex words so it doesnt sound like AI. \"\"\",\n",
        "    expected_output=\"Full blog post of at least 3 paragraphs\",\n",
        "    agent=writer\n",
        ")"
      ]
    },
    {
      "cell_type": "code",
      "execution_count": null,
      "metadata": {
        "id": "CgX7_Zrb5GzV"
      },
      "outputs": [],
      "source": [
        "# Instantiate a crew with a sequential process\n",
        "crew = Crew(\n",
        "    agents = [researcher, writer],\n",
        "    tasks = [task1, task2],\n",
        "    verbose =1,\n",
        ")"
      ]
    },
    {
      "cell_type": "code",
      "execution_count": null,
      "metadata": {
        "colab": {
          "base_uri": "https://localhost:8080/"
        },
        "id": "9U7TxEXl5lVM",
        "outputId": "c31aa0ff-67b9-414f-b846-756aed4ec659"
      },
      "outputs": [
        {
          "name": "stdout",
          "output_type": "stream",
          "text": [
            "\u001b[1m\u001b[95m [DEBUG]: == Working Agent: Senior Research Assistant\u001b[00m\n",
            "\u001b[95m \n",
            "\n",
            "\n",
            "Search results: Title: What Will 2024 Hold In AI Advancements? - Forbes\n",
            "Link: https://www.forbes.com/sites/cindygordon/2023/12/26/what-will-2023-hold-in-ai-advancements/\n",
            "Snippet: AI ethical draft laws will finally start to be legalized in the EU by Q4 2024. · Generative AI will continue to go mainstream, and share prices ...\n",
            "---\n",
            "Title: The most important AI trends in 2024 - YouTube\n",
            "Link: https://www.youtube.com/watch?v=sGZ6AlAnULc\n",
            "Snippet: So, what AI developments should we expect in 2024 ... The most important AI trends in 2024 ...\n",
            "---\n",
            "Title: The explosion of AI Agents in 2024-2026 - LinkedIn\n",
            "Link: https://www.linkedin.com/pulse/explosion-ai-agents-2024-2026-frank-frisby-mfgle\n",
            "Snippet: Phase 7 - Emergence of Primitive AGI Systems: Here, agents evolve into fully autonomous, primitive Artificial General Intelligence (AGI) ...\n",
            "---\n",
            "Title: The power of AI agents in 2024: Transforming our world\n",
            "Link: https://digileaders.medium.com/the-power-of-ai-agents-in-2024-transforming-our-world-cc8f8adf9e22\n",
            "Snippet: In 2024, AI Agents are proving to be more than just digital assistants; they are catalysts for transformative change across industries and in ...\n",
            "---\n",
            "Title: 5 Top artificial intelligence trends for 2024 - Interplay\n",
            "Link: https://www.interplayit.com/blog/5-top-artificial-intelligence-trends-for-2024/\n",
            "Snippet: Read the latest post 5 Top artificial intelligence trends for 2024 from the IT experts at Interplay ... The emergence of AI agents in customer ...\n",
            "---\n",
            "Title: How 2024 Will Be A.I.'s 'Leap Forward' - The New York Times\n",
            "Link: https://www.nytimes.com/2024/01/08/technology/ai-robots-chatbots-2024.html\n",
            "Snippet: A.I. is set to advance at a rapid rate, becoming more powerful and spreading into the physical world.\n",
            "---\n",
            "Title: AI Agents in 2024: What Will Your Business Be Capable of? - D-ID\n",
            "Link: https://www.d-id.com/blog/ai-agents-in-2024-what-will-your-business-be-capable-of/\n",
            "Snippet: These intelligent assistants make use of the latest advancements in AI, such as Large Language Models (LLM), Natural Language Understanding ...\n",
            "---\n",
            "Title: Top Ai Breakthroughs Coming in 2024 We're NOT Ready For!\n",
            "Link: https://www.youtube.com/watch?v=lRsg4MqGZuA\n",
            "Snippet: to dive into the cutting-edge world of Artificial Intelligence with our latest video! In 2024 ... New ...\n",
            "---\n",
            "Title: Top 10 AI and Machine Learning Trends for 2024: Exploring Re\n",
            "Link: https://www.linkedin.com/pulse/top-10-ai-machine-learning-trends-2024-exploring-avpqc\n",
            "Snippet: 1. Multimodal AI: Multimodal AI, which integrates text, images, and sound, is revolutionizing human-machine interaction. · 2. Agentic AI: AI ...\n",
            "---\n",
            "\n",
            "\u001b[00m\n",
            "\u001b[95m \n",
            "\n",
            "\n",
            "Search results: Title: AI Act | Shaping Europe's digital future - European Union\n",
            "Link: https://digital-strategy.ec.europa.eu/en/policies/regulatory-framework-ai\n",
            "Snippet: The AI Act is the first-ever legal framework on AI, which addresses the risks of AI and positions Europe to play a leading role globally.\n",
            "---\n",
            "Title: The EU's AI Act and How Companies Can Achieve Compliance\n",
            "Link: https://hbr.org/2024/02/the-eus-ai-act-and-how-companies-can-achieve-compliance\n",
            "Snippet: The regulation imposes requirements on companies designing and/or using AI in the European Union, and backs it up with stiff penalties. Most ...\n",
            "---\n",
            "Title: EU AI Act: first regulation on artificial intelligence | Topics\n",
            "Link: https://www.europarl.europa.eu/topics/en/article/20230601STO93804/eu-ai-act-first-regulation-on-artificial-intelligence\n",
            "Snippet: The use of artificial intelligence in the EU will be regulated by the AI Act, the world's first comprehensive AI law.\n",
            "---\n",
            "Title: EU AI Act – Landmark Law on Artificial Intelligence Approved by the ...\n",
            "Link: https://www.mofo.com/resources/insights/240314-eu-ai-act-landmark-law-on-artificial-intelligence\n",
            "Snippet: The AI Act is subject to a final linguist check by lawyers, which is expected to take place in April 2024. This is essentially a validation of ...\n",
            "---\n",
            "Title: Summary of European Union 2024 Artificial Intelligence Act\n",
            "Link: https://www.natlawreview.com/article/worldwide-first-ai-legal-developments-european-unions-2024-artificial-intelligence\n",
            "Snippet: The first legislation of its kind, the EU Artificial Intelligence Act seeks to impose legal and ethical standards on companies that develop and ...\n",
            "---\n",
            "Title: EU Artificial Intelligence Act — Final Form Legislation Endorsed by ...\n",
            "Link: https://www.faegredrinker.com/en/insights/publications/2024/2/eu-artificial-intelligence-act-final-form-legislation-endorsed-by-european-parliament\n",
            "Snippet: However, some provisions, such prohibitions on unacceptable-risk AI systems, will apply 6 months after entry into force (i.e., late 2024).\n",
            "---\n",
            "Title: EU parliament greenlights landmark artificial intelligence regulations\n",
            "Link: https://www.aljazeera.com/news/2024/3/13/eu-parliament-greenlights-landmark-artificial-intelligence-regulations\n",
            "Snippet: Senior European Union officials said the rules, first proposed in 2021, will protect citizens from the possible risks of a technology developing ...\n",
            "---\n",
            "Title: Europe's New AI Rules Could Go Global--Here's What That Will Mean\n",
            "Link: https://www.scientificamerican.com/article/europes-new-ai-rules-could-go-global-heres-what-that-will-mean/\n",
            "Snippet: The act is expected to become law this year and would impose sweeping limits on companies whose AI tools are used in Europe, potentially ...\n",
            "---\n",
            "Title: The New EU AI Act – the 10 key things you need to know now\n",
            "Link: https://www.dentons.com/en/insights/articles/2023/december/14/the-new-eu-ai-act-the-10-key-things-you-need-to-know-now\n",
            "Snippet: The text will then be formally adopted by both Parliament and Council to become EU law. It is expected that this will happen in early 2024.\n",
            "---\n",
            "\n",
            "\u001b[00m\n",
            "\u001b[95m \n",
            "\n",
            "\n",
            "Search results: Title: For people who say AGI is coming in 2024: Why? : r/singularity\n",
            "Link: https://www.reddit.com/r/singularity/comments/19aw2sk/for_people_who_say_agi_is_coming_in_2024_why/\n",
            "Snippet: \"Oh, it is not a general intelligence like us humans until it beats the top of humans\" - meanwhile primitive AI gets hundreds of thousands fired ...\n",
            "---\n",
            "Title: The explosion of AI Agents in 2024-2026 - LinkedIn\n",
            "Link: https://www.linkedin.com/pulse/explosion-ai-agents-2024-2026-frank-frisby-mfgle\n",
            "Snippet: Phase 7 - Emergence of Primitive AGI Systems: Here, agents evolve into fully autonomous, primitive Artificial General Intelligence (AGI) systems ...\n",
            "---\n",
            "Title: AI Godfather's Predictions About Robots, AGI and more - Medium\n",
            "Link: https://medium.com/@seekmeai/ai-godfathers-predictions-about-robots-agi-and-more-ca39e102680f\n",
            "Snippet: LLMs can only perform these tasks in a very primitive way, and they do not possess a comprehensive understanding of the world. LeCun further ...\n",
            "---\n",
            "Title: AGI: The Creation Exceeding the Creator | Evolution News\n",
            "Link: https://evolutionnews.org/2024/01/artificial-general-intelligence-the-creation-exceeding-the-creator/\n",
            "Snippet: But no matter how efficiently it could do arithmetic, no one would claim that his calculating machine, primitive by our standards, exceeded ...\n",
            "---\n",
            "Title: Intelligent Agents, AGI, Active Inference and the Free Energy Principle\n",
            "Link: https://miiafrica.org/2024/01/16/intelligent-agents-agi-active-inference-and-the-free-energy-principle/\n",
            "Snippet: Goals are a (human) cognitive primitive: Argues that the concept of goals is fundamentally a human cognitive construct that informs our ...\n",
            "---\n",
            "Title: It is 2024 already. Why hasn't strong AI been invented yet? - Quora\n",
            "Link: https://www.quora.com/It-is-2024-already-Why-hasnt-strong-AI-been-invented-yet\n",
            "Snippet: The development of AGI ... Even now, in its primitive state, we have artificial intelligence that: ... Ensuring that AGI systems are safe, ethical ...\n",
            "---\n",
            "Title: Artificial general intelligence - Wikipedia\n",
            "Link: https://en.wikipedia.org/wiki/Artificial_general_intelligence\n",
            "Snippet: A 2020 survey identified 72 active AGI R&D projects spread across 37 countries. The timeline for AGI development remains a subject of ongoing debate among ...\n",
            "---\n",
            "Title: Primitive Global Discourse Framework, Constitutional AI using legal ...\n",
            "Link: https://forum.effectivealtruism.org/posts/ZMd2hjMF2auyeqtfr/primitive-global-discourse-framework-constitutional-ai-using\n",
            "Snippet: The emergence of AGI is likely to create a division between those who can match its capabilities and those who cannot, leading to class warfare, as the ...\n",
            "---\n",
            "Title: How far are we from AGI? - AI Supremacy - Substack\n",
            "Link: https://aisupremacy.substack.com/p/how-far-are-we-from-agi\n",
            "Snippet: For instance, the discovery of fire enabled primitive ... AGI systems display general intelligence ... Ready for more? Subscribe. © 2024 Michael ...\n",
            "---\n",
            "Title: Aleph Alpha: The Hidden AI company delivering AGI soon | AI News\n",
            "Link: https://www.yeschat.ai/blog-Aleph-Alpha-The-Hidden-AI-company-delivering-AGI-soon-AI-News-16536\n",
            "Snippet: The idea of primitive consciousness in AI is a stepping stone towards the development of Artificial General Intelligence (AGI), as it ...\n",
            "---\n",
            "\n",
            "\u001b[00m\n",
            "\u001b[1m\u001b[92m [DEBUG]: == [Senior Research Assistant] Task output: Based on the comprehensive analysis conducted through various searches, the latest advancements in AI agents as of April 2024 can be summarized as follows:\n",
            "\n",
            "- **Legal and Ethical Frameworks**: The European Union has taken a pioneering step by introducing the AI Act, the first-ever legal framework on AI. This regulation is designed to address the risks associated with AI technologies and positions Europe as a leader in global AI governance. It imposes requirements on companies designing or using AI within the EU, backed by significant penalties for non-compliance.\n",
            "\n",
            "- **Generative AI**: Continues to gain mainstream acceptance, with advancements in Large Language Models (LLM) and Natural Language Understanding (NLU) technologies. These AI agents are becoming increasingly sophisticated, capable of generating human-like text, images, and even code, which is transforming how businesses interact with their customers and automate processes.\n",
            "\n",
            "- **Emergence of Primitive AGI Systems**: There is a notable progression towards the development of primitive Artificial General Intelligence (AGI) systems. These agents represent a significant leap forward, evolving into fully autonomous entities capable of performing a wide range of tasks with human-like adaptability. This development hints at the potential for more complex AGI systems in the near future.\n",
            "\n",
            "- **Multimodal AI**: This technology, which integrates text, images, and sound, is revolutionizing human-machine interaction. By processing and understanding multiple forms of data, AI agents can offer more nuanced and contextually relevant responses, enhancing user experiences across various applications.\n",
            "\n",
            "- **Agentic AI**: AI agents are increasingly being designed with agency, meaning they can perform tasks, make decisions, and interact with their environment in more sophisticated and autonomous ways. This trend is particularly evident in customer service, where AI agents are handling more complex inquiries and tasks.\n",
            "\n",
            "- **Transformative Impact Across Industries**: AI agents are acting as catalysts for transformative change, not just as digital assistants but as integral components in healthcare, finance, education, and more. Their ability to process vast amounts of data and provide insights is enabling more efficient decision-making and innovation.\n",
            "\n",
            "- **Rapid Advancement and Integration into the Physical World**: AI technology is advancing at a rapid pace, with AI agents beginning to spread into the physical world through robotics and IoT devices. This integration is expected to further blur the lines between digital and physical realms, creating new opportunities and challenges.\n",
            "\n",
            "In conclusion, the advancements in AI agents as of April 2024 indicate a significant shift towards more autonomous, intelligent, and integrated AI systems. These developments are poised to have profound impacts across all sectors of society, from transforming industry landscapes to reshaping the legal and ethical frameworks governing AI use.\n",
            "\n",
            "\u001b[00m\n",
            "\u001b[1m\u001b[95m [DEBUG]: == Working Agent: Professional Short-Article Writer\u001b[00m\n",
            "\u001b[1m\u001b[92m [DEBUG]: == [Professional Short-Article Writer] Task output: **The Dawn of a New Era: The Latest in AI Advancements**\n",
            "\n",
            "As we navigate through 2024, the landscape of artificial intelligence (AI) is undergoing transformative changes that promise to redefine our interactions with technology. The recent advancements in AI agents are not just evolutionary steps but rather leaps towards a future where technology is seamlessly integrated into every facet of our lives. Let's explore these groundbreaking developments that are setting the stage for an exciting era of innovation.\n",
            "\n",
            "The European Union has taken a bold step forward by introducing the AI Act, marking the inception of the world's first legal framework tailored for AI. This pioneering regulation aims to mitigate the risks associated with AI technologies, establishing Europe as a frontrunner in global AI governance. By imposing stringent requirements on entities involved in the design or utilization of AI within the EU, this act underscores the significance of ethical considerations in the realm of artificial intelligence.\n",
            "\n",
            "In the realm of generative AI, we're witnessing an unprecedented level of sophistication in Large Language Models (LLM) and Natural Language Understanding (NLU) technologies. These AI agents have become adept at generating human-like text, visuals, and even code, revolutionizing the way businesses interact with customers and streamline operations. The emergence of primitive Artificial General Intelligence (AGI) systems marks a significant milestone, with these agents exhibiting human-like adaptability across a broad spectrum of tasks. This progression hints at the advent of more complex AGI systems, poised to redefine our expectations of machine intelligence.\n",
            "\n",
            "Moreover, the rise of multimodal AI is reshaping human-machine interaction by integrating text, images, and sound to provide more nuanced and contextually relevant responses. This advancement enhances user experiences across various applications, from digital assistants to more immersive interfaces. Agentic AI, characterized by its ability to act autonomously, make decisions, and interact with its environment, is increasingly prevalent in customer service, handling complex inquiries with unprecedented sophistication.\n",
            "\n",
            "These AI agents are not just revolutionizing the digital realm; they're acting as catalysts for transformative change across multiple industries, including healthcare, finance, and education. Their capacity to process vast amounts of data and deliver insights is enabling more efficient decision-making and fostering innovation at an unparalleled scale. As AI technology continues to advance rapidly, its integration into the physical world through robotics and IoT devices is blurring the boundaries between the digital and physical realms, opening new avenues for exploration and challenges to overcome.\n",
            "\n",
            "The advancements in AI agents as of April 2024 signify a pivotal shift towards more autonomous, intelligent, and integrated AI systems. These developments herald a future where AI's potential is not just imagined but realized, transforming industry landscapes and reshaping the legal and ethical frameworks governing its use. As we stand on the brink of this new era, the possibilities are as limitless as our imagination, promising a future where AI enhances every aspect of our lives.\n",
            "\n",
            "\u001b[00m\n",
            "###################\n",
            "**The Dawn of a New Era: The Latest in AI Advancements**\n",
            "\n",
            "As we navigate through 2024, the landscape of artificial intelligence (AI) is undergoing transformative changes that promise to redefine our interactions with technology. The recent advancements in AI agents are not just evolutionary steps but rather leaps towards a future where technology is seamlessly integrated into every facet of our lives. Let's explore these groundbreaking developments that are setting the stage for an exciting era of innovation.\n",
            "\n",
            "The European Union has taken a bold step forward by introducing the AI Act, marking the inception of the world's first legal framework tailored for AI. This pioneering regulation aims to mitigate the risks associated with AI technologies, establishing Europe as a frontrunner in global AI governance. By imposing stringent requirements on entities involved in the design or utilization of AI within the EU, this act underscores the significance of ethical considerations in the realm of artificial intelligence.\n",
            "\n",
            "In the realm of generative AI, we're witnessing an unprecedented level of sophistication in Large Language Models (LLM) and Natural Language Understanding (NLU) technologies. These AI agents have become adept at generating human-like text, visuals, and even code, revolutionizing the way businesses interact with customers and streamline operations. The emergence of primitive Artificial General Intelligence (AGI) systems marks a significant milestone, with these agents exhibiting human-like adaptability across a broad spectrum of tasks. This progression hints at the advent of more complex AGI systems, poised to redefine our expectations of machine intelligence.\n",
            "\n",
            "Moreover, the rise of multimodal AI is reshaping human-machine interaction by integrating text, images, and sound to provide more nuanced and contextually relevant responses. This advancement enhances user experiences across various applications, from digital assistants to more immersive interfaces. Agentic AI, characterized by its ability to act autonomously, make decisions, and interact with its environment, is increasingly prevalent in customer service, handling complex inquiries with unprecedented sophistication.\n",
            "\n",
            "These AI agents are not just revolutionizing the digital realm; they're acting as catalysts for transformative change across multiple industries, including healthcare, finance, and education. Their capacity to process vast amounts of data and deliver insights is enabling more efficient decision-making and fostering innovation at an unparalleled scale. As AI technology continues to advance rapidly, its integration into the physical world through robotics and IoT devices is blurring the boundaries between the digital and physical realms, opening new avenues for exploration and challenges to overcome.\n",
            "\n",
            "The advancements in AI agents as of April 2024 signify a pivotal shift towards more autonomous, intelligent, and integrated AI systems. These developments herald a future where AI's potential is not just imagined but realized, transforming industry landscapes and reshaping the legal and ethical frameworks governing its use. As we stand on the brink of this new era, the possibilities are as limitless as our imagination, promising a future where AI enhances every aspect of our lives.\n"
          ]
        }
      ],
      "source": [
        "result = crew.kickoff()\n",
        "print(\"###################\")\n",
        "print(result)\n"
      ]
    }
  ],
  "metadata": {
    "colab": {
      "provenance": [],
      "authorship_tag": "ABX9TyP8XW5Q4htWJnnGX/vxFDG9",
      "include_colab_link": true
    },
    "kernelspec": {
      "display_name": "Python 3",
      "name": "python3"
    },
    "language_info": {
      "name": "python"
    }
  },
  "nbformat": 4,
  "nbformat_minor": 0
}