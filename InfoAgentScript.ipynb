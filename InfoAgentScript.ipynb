{
  "cells": [
    {
      "cell_type": "markdown",
      "metadata": {
        "id": "view-in-github",
        "colab_type": "text"
      },
      "source": [
        "<a href=\"https://colab.research.google.com/github/JAM-AI-Inc/InfoAgent/blob/main/InfoAgentScript.ipynb\" target=\"_parent\"><img src=\"https://colab.research.google.com/assets/colab-badge.svg\" alt=\"Open In Colab\"/></a>"
      ]
    },
    {
      "cell_type": "code",
      "execution_count": 1,
      "metadata": {
        "colab": {
          "base_uri": "https://localhost:8080/"
        },
        "id": "Vdix8O9TupTP",
        "outputId": "65ce4fa5-ab07-43d7-8d96-9175d6dfcdcc"
      },
      "outputs": [
        {
          "output_type": "stream",
          "name": "stdout",
          "text": [
            "\u001b[2K     \u001b[90m━━━━━━━━━━━━━━━━━━━━━━━━━━━━━━━━━━━━━━━━\u001b[0m \u001b[32m66.0/66.0 kB\u001b[0m \u001b[31m1.4 MB/s\u001b[0m eta \u001b[36m0:00:00\u001b[0m\n",
            "\u001b[2K     \u001b[90m━━━━━━━━━━━━━━━━━━━━━━━━━━━━━━━━━━━━━━━━\u001b[0m \u001b[32m194.4/194.4 kB\u001b[0m \u001b[31m6.0 MB/s\u001b[0m eta \u001b[36m0:00:00\u001b[0m\n",
            "\u001b[2K     \u001b[90m━━━━━━━━━━━━━━━━━━━━━━━━━━━━━━━━━━━━━━━━\u001b[0m \u001b[32m1.0/1.0 MB\u001b[0m \u001b[31m7.1 MB/s\u001b[0m eta \u001b[36m0:00:00\u001b[0m\n",
            "\u001b[2K     \u001b[90m━━━━━━━━━━━━━━━━━━━━━━━━━━━━━━━━━━━━━━━━\u001b[0m \u001b[32m320.3/320.3 kB\u001b[0m \u001b[31m4.5 MB/s\u001b[0m eta \u001b[36m0:00:00\u001b[0m\n",
            "\u001b[2K     \u001b[90m━━━━━━━━━━━━━━━━━━━━━━━━━━━━━━━━━━━━━━━━\u001b[0m \u001b[32m60.1/60.1 kB\u001b[0m \u001b[31m2.0 MB/s\u001b[0m eta \u001b[36m0:00:00\u001b[0m\n",
            "\u001b[2K     \u001b[90m━━━━━━━━━━━━━━━━━━━━━━━━━━━━━━━━━━━━━━━━\u001b[0m \u001b[32m106.1/106.1 kB\u001b[0m \u001b[31m4.1 MB/s\u001b[0m eta \u001b[36m0:00:00\u001b[0m\n",
            "\u001b[2K     \u001b[90m━━━━━━━━━━━━━━━━━━━━━━━━━━━━━━━━━━━━━━━━\u001b[0m \u001b[32m233.4/233.4 kB\u001b[0m \u001b[31m11.2 MB/s\u001b[0m eta \u001b[36m0:00:00\u001b[0m\n",
            "\u001b[2K     \u001b[90m━━━━━━━━━━━━━━━━━━━━━━━━━━━━━━━━━━━━━━━━\u001b[0m \u001b[32m526.8/526.8 kB\u001b[0m \u001b[31m14.5 MB/s\u001b[0m eta \u001b[36m0:00:00\u001b[0m\n",
            "\u001b[2K     \u001b[90m━━━━━━━━━━━━━━━━━━━━━━━━━━━━━━━━━━━━━━━━\u001b[0m \u001b[32m131.5/131.5 kB\u001b[0m \u001b[31m8.1 MB/s\u001b[0m eta \u001b[36m0:00:00\u001b[0m\n",
            "\u001b[2K     \u001b[90m━━━━━━━━━━━━━━━━━━━━━━━━━━━━━━━━━━━━━━━━\u001b[0m \u001b[32m41.3/41.3 kB\u001b[0m \u001b[31m2.7 MB/s\u001b[0m eta \u001b[36m0:00:00\u001b[0m\n",
            "\u001b[2K     \u001b[90m━━━━━━━━━━━━━━━━━━━━━━━━━━━━━━━━━━━━━━━━\u001b[0m \u001b[32m290.4/290.4 kB\u001b[0m \u001b[31m22.2 MB/s\u001b[0m eta \u001b[36m0:00:00\u001b[0m\n",
            "\u001b[2K     \u001b[90m━━━━━━━━━━━━━━━━━━━━━━━━━━━━━━━━━━━━━━━━\u001b[0m \u001b[32m71.1/71.1 kB\u001b[0m \u001b[31m4.1 MB/s\u001b[0m eta \u001b[36m0:00:00\u001b[0m\n",
            "\u001b[2K     \u001b[90m━━━━━━━━━━━━━━━━━━━━━━━━━━━━━━━━━━━━━━━━\u001b[0m \u001b[32m2.0/2.0 MB\u001b[0m \u001b[31m30.0 MB/s\u001b[0m eta \u001b[36m0:00:00\u001b[0m\n",
            "\u001b[2K     \u001b[90m━━━━━━━━━━━━━━━━━━━━━━━━━━━━━━━━━━━━━━━━\u001b[0m \u001b[32m2.0/2.0 MB\u001b[0m \u001b[31m35.7 MB/s\u001b[0m eta \u001b[36m0:00:00\u001b[0m\n",
            "\u001b[2K     \u001b[90m━━━━━━━━━━━━━━━━━━━━━━━━━━━━━━━━━━━━━━━━\u001b[0m \u001b[32m302.9/302.9 kB\u001b[0m \u001b[31m18.7 MB/s\u001b[0m eta \u001b[36m0:00:00\u001b[0m\n",
            "\u001b[2K     \u001b[90m━━━━━━━━━━━━━━━━━━━━━━━━━━━━━━━━━━━━━━━━\u001b[0m \u001b[32m121.0/121.0 kB\u001b[0m \u001b[31m7.3 MB/s\u001b[0m eta \u001b[36m0:00:00\u001b[0m\n",
            "\u001b[2K     \u001b[90m━━━━━━━━━━━━━━━━━━━━━━━━━━━━━━━━━━━━━━━━\u001b[0m \u001b[32m75.6/75.6 kB\u001b[0m \u001b[31m4.6 MB/s\u001b[0m eta \u001b[36m0:00:00\u001b[0m\n",
            "\u001b[2K     \u001b[90m━━━━━━━━━━━━━━━━━━━━━━━━━━━━━━━━━━━━━━━━\u001b[0m \u001b[32m50.8/50.8 kB\u001b[0m \u001b[31m3.7 MB/s\u001b[0m eta \u001b[36m0:00:00\u001b[0m\n",
            "\u001b[2K     \u001b[90m━━━━━━━━━━━━━━━━━━━━━━━━━━━━━━━━━━━━━━━━\u001b[0m \u001b[32m78.6/78.6 kB\u001b[0m \u001b[31m6.0 MB/s\u001b[0m eta \u001b[36m0:00:00\u001b[0m\n",
            "\u001b[2K     \u001b[90m━━━━━━━━━━━━━━━━━━━━━━━━━━━━━━━━━━━━━━━━\u001b[0m \u001b[32m2.4/2.4 MB\u001b[0m \u001b[31m45.0 MB/s\u001b[0m eta \u001b[36m0:00:00\u001b[0m\n",
            "\u001b[2K     \u001b[90m━━━━━━━━━━━━━━━━━━━━━━━━━━━━━━━━━━━━━━━━\u001b[0m \u001b[32m92.0/92.0 kB\u001b[0m \u001b[31m5.5 MB/s\u001b[0m eta \u001b[36m0:00:00\u001b[0m\n",
            "\u001b[2K     \u001b[90m━━━━━━━━━━━━━━━━━━━━━━━━━━━━━━━━━━━━━━━━\u001b[0m \u001b[32m60.8/60.8 kB\u001b[0m \u001b[31m4.0 MB/s\u001b[0m eta \u001b[36m0:00:00\u001b[0m\n",
            "\u001b[2K     \u001b[90m━━━━━━━━━━━━━━━━━━━━━━━━━━━━━━━━━━━━━━━━\u001b[0m \u001b[32m6.8/6.8 MB\u001b[0m \u001b[31m42.6 MB/s\u001b[0m eta \u001b[36m0:00:00\u001b[0m\n",
            "\u001b[2K     \u001b[90m━━━━━━━━━━━━━━━━━━━━━━━━━━━━━━━━━━━━━━━━\u001b[0m \u001b[32m67.3/67.3 kB\u001b[0m \u001b[31m4.3 MB/s\u001b[0m eta \u001b[36m0:00:00\u001b[0m\n",
            "\u001b[?25h  Installing build dependencies ... \u001b[?25l\u001b[?25hdone\n",
            "  Getting requirements to build wheel ... \u001b[?25l\u001b[?25hdone\n",
            "  Preparing metadata (pyproject.toml) ... \u001b[?25l\u001b[?25hdone\n",
            "\u001b[2K     \u001b[90m━━━━━━━━━━━━━━━━━━━━━━━━━━━━━━━━━━━━━━━━\u001b[0m \u001b[32m283.7/283.7 kB\u001b[0m \u001b[31m20.9 MB/s\u001b[0m eta \u001b[36m0:00:00\u001b[0m\n",
            "\u001b[2K     \u001b[90m━━━━━━━━━━━━━━━━━━━━━━━━━━━━━━━━━━━━━━━━\u001b[0m \u001b[32m1.6/1.6 MB\u001b[0m \u001b[31m36.0 MB/s\u001b[0m eta \u001b[36m0:00:00\u001b[0m\n",
            "\u001b[2K     \u001b[90m━━━━━━━━━━━━━━━━━━━━━━━━━━━━━━━━━━━━━━━━\u001b[0m \u001b[32m67.6/67.6 kB\u001b[0m \u001b[31m3.4 MB/s\u001b[0m eta \u001b[36m0:00:00\u001b[0m\n",
            "\u001b[2K     \u001b[90m━━━━━━━━━━━━━━━━━━━━━━━━━━━━━━━━━━━━━━━━\u001b[0m \u001b[32m142.5/142.5 kB\u001b[0m \u001b[31m1.0 MB/s\u001b[0m eta \u001b[36m0:00:00\u001b[0m\n",
            "\u001b[2K     \u001b[90m━━━━━━━━━━━━━━━━━━━━━━━━━━━━━━━━━━━━━━━━\u001b[0m \u001b[32m49.3/49.3 kB\u001b[0m \u001b[31m2.5 MB/s\u001b[0m eta \u001b[36m0:00:00\u001b[0m\n",
            "\u001b[2K     \u001b[90m━━━━━━━━━━━━━━━━━━━━━━━━━━━━━━━━━━━━━━━━\u001b[0m \u001b[32m77.9/77.9 kB\u001b[0m \u001b[31m5.9 MB/s\u001b[0m eta \u001b[36m0:00:00\u001b[0m\n",
            "\u001b[2K     \u001b[90m━━━━━━━━━━━━━━━━━━━━━━━━━━━━━━━━━━━━━━━━\u001b[0m \u001b[32m58.3/58.3 kB\u001b[0m \u001b[31m5.5 MB/s\u001b[0m eta \u001b[36m0:00:00\u001b[0m\n",
            "\u001b[2K     \u001b[90m━━━━━━━━━━━━━━━━━━━━━━━━━━━━━━━━━━━━━━━━\u001b[0m \u001b[32m53.0/53.0 kB\u001b[0m \u001b[31m5.8 MB/s\u001b[0m eta \u001b[36m0:00:00\u001b[0m\n",
            "\u001b[2K     \u001b[90m━━━━━━━━━━━━━━━━━━━━━━━━━━━━━━━━━━━━━━━━\u001b[0m \u001b[32m71.9/71.9 kB\u001b[0m \u001b[31m7.4 MB/s\u001b[0m eta \u001b[36m0:00:00\u001b[0m\n",
            "\u001b[2K     \u001b[90m━━━━━━━━━━━━━━━━━━━━━━━━━━━━━━━━━━━━━━━━\u001b[0m \u001b[32m53.6/53.6 kB\u001b[0m \u001b[31m5.5 MB/s\u001b[0m eta \u001b[36m0:00:00\u001b[0m\n",
            "\u001b[2K     \u001b[90m━━━━━━━━━━━━━━━━━━━━━━━━━━━━━━━━━━━━━━━━\u001b[0m \u001b[32m46.0/46.0 kB\u001b[0m \u001b[31m4.1 MB/s\u001b[0m eta \u001b[36m0:00:00\u001b[0m\n",
            "\u001b[2K     \u001b[90m━━━━━━━━━━━━━━━━━━━━━━━━━━━━━━━━━━━━━━━━\u001b[0m \u001b[32m341.4/341.4 kB\u001b[0m \u001b[31m20.1 MB/s\u001b[0m eta \u001b[36m0:00:00\u001b[0m\n",
            "\u001b[2K     \u001b[90m━━━━━━━━━━━━━━━━━━━━━━━━━━━━━━━━━━━━━━━━\u001b[0m \u001b[32m3.4/3.4 MB\u001b[0m \u001b[31m44.9 MB/s\u001b[0m eta \u001b[36m0:00:00\u001b[0m\n",
            "\u001b[2K     \u001b[90m━━━━━━━━━━━━━━━━━━━━━━━━━━━━━━━━━━━━━━━━\u001b[0m \u001b[32m1.3/1.3 MB\u001b[0m \u001b[31m46.1 MB/s\u001b[0m eta \u001b[36m0:00:00\u001b[0m\n",
            "\u001b[2K     \u001b[90m━━━━━━━━━━━━━━━━━━━━━━━━━━━━━━━━━━━━━━━━\u001b[0m \u001b[32m130.2/130.2 kB\u001b[0m \u001b[31m12.6 MB/s\u001b[0m eta \u001b[36m0:00:00\u001b[0m\n",
            "\u001b[2K     \u001b[90m━━━━━━━━━━━━━━━━━━━━━━━━━━━━━━━━━━━━━━━━\u001b[0m \u001b[32m307.7/307.7 kB\u001b[0m \u001b[31m17.8 MB/s\u001b[0m eta \u001b[36m0:00:00\u001b[0m\n",
            "\u001b[2K     \u001b[90m━━━━━━━━━━━━━━━━━━━━━━━━━━━━━━━━━━━━━━━━\u001b[0m \u001b[32m91.8/91.8 kB\u001b[0m \u001b[31m8.2 MB/s\u001b[0m eta \u001b[36m0:00:00\u001b[0m\n",
            "\u001b[2K     \u001b[90m━━━━━━━━━━━━━━━━━━━━━━━━━━━━━━━━━━━━━━━━\u001b[0m \u001b[32m86.8/86.8 kB\u001b[0m \u001b[31m9.4 MB/s\u001b[0m eta \u001b[36m0:00:00\u001b[0m\n",
            "\u001b[?25h  Building wheel for pypika (pyproject.toml) ... \u001b[?25l\u001b[?25hdone\n"
          ]
        }
      ],
      "source": [
        "!pip install -q crewai"
      ]
    },
    {
      "cell_type": "code",
      "execution_count": 2,
      "metadata": {
        "id": "yLfp7aRFvI7g",
        "outputId": "0da04fdd-4dc6-4b84-ffbf-d9181b1dc513",
        "colab": {
          "base_uri": "https://localhost:8080/"
        }
      },
      "outputs": [
        {
          "output_type": "stream",
          "name": "stdout",
          "text": [
            "\u001b[2K     \u001b[90m━━━━━━━━━━━━━━━━━━━━━━━━━━━━━━━━━━━━━━━━\u001b[0m \u001b[32m51.8/51.8 kB\u001b[0m \u001b[31m1.8 MB/s\u001b[0m eta \u001b[36m0:00:00\u001b[0m\n",
            "\u001b[2K     \u001b[90m━━━━━━━━━━━━━━━━━━━━━━━━━━━━━━━━━━━━━━━━\u001b[0m \u001b[32m525.5/525.5 kB\u001b[0m \u001b[31m9.3 MB/s\u001b[0m eta \u001b[36m0:00:00\u001b[0m\n",
            "\u001b[?25h  Preparing metadata (setup.py) ... \u001b[?25l\u001b[?25hdone\n",
            "\u001b[2K     \u001b[90m━━━━━━━━━━━━━━━━━━━━━━━━━━━━━━━━━━━━━━━━\u001b[0m \u001b[32m115.1/115.1 kB\u001b[0m \u001b[31m8.5 MB/s\u001b[0m eta \u001b[36m0:00:00\u001b[0m\n",
            "\u001b[2K     \u001b[90m━━━━━━━━━━━━━━━━━━━━━━━━━━━━━━━━━━━━━━━━\u001b[0m \u001b[32m339.2/339.2 kB\u001b[0m \u001b[31m22.8 MB/s\u001b[0m eta \u001b[36m0:00:00\u001b[0m\n",
            "\u001b[2K     \u001b[90m━━━━━━━━━━━━━━━━━━━━━━━━━━━━━━━━━━━━━━━━\u001b[0m \u001b[32m57.6/57.6 kB\u001b[0m \u001b[31m3.4 MB/s\u001b[0m eta \u001b[36m0:00:00\u001b[0m\n",
            "\u001b[2K     \u001b[90m━━━━━━━━━━━━━━━━━━━━━━━━━━━━━━━━━━━━━━━━\u001b[0m \u001b[32m9.5/9.5 MB\u001b[0m \u001b[31m24.7 MB/s\u001b[0m eta \u001b[36m0:00:00\u001b[0m\n",
            "\u001b[2K     \u001b[90m━━━━━━━━━━━━━━━━━━━━━━━━━━━━━━━━━━━━━━━━\u001b[0m \u001b[32m192.7/192.7 kB\u001b[0m \u001b[31m13.3 MB/s\u001b[0m eta \u001b[36m0:00:00\u001b[0m\n",
            "\u001b[2K     \u001b[90m━━━━━━━━━━━━━━━━━━━━━━━━━━━━━━━━━━━━━━━━\u001b[0m \u001b[32m278.2/278.2 kB\u001b[0m \u001b[31m19.1 MB/s\u001b[0m eta \u001b[36m0:00:00\u001b[0m\n",
            "\u001b[2K     \u001b[90m━━━━━━━━━━━━━━━━━━━━━━━━━━━━━━━━━━━━━━━━\u001b[0m \u001b[32m5.4/5.4 MB\u001b[0m \u001b[31m58.7 MB/s\u001b[0m eta \u001b[36m0:00:00\u001b[0m\n",
            "\u001b[2K     \u001b[90m━━━━━━━━━━━━━━━━━━━━━━━━━━━━━━━━━━━━━━━━\u001b[0m \u001b[32m3.0/3.0 MB\u001b[0m \u001b[31m48.1 MB/s\u001b[0m eta \u001b[36m0:00:00\u001b[0m\n",
            "\u001b[2K     \u001b[90m━━━━━━━━━━━━━━━━━━━━━━━━━━━━━━━━━━━━━━━━\u001b[0m \u001b[32m342.2/342.2 kB\u001b[0m \u001b[31m22.9 MB/s\u001b[0m eta \u001b[36m0:00:00\u001b[0m\n",
            "\u001b[2K     \u001b[90m━━━━━━━━━━━━━━━━━━━━━━━━━━━━━━━━━━━━━━━━\u001b[0m \u001b[32m207.3/207.3 kB\u001b[0m \u001b[31m14.9 MB/s\u001b[0m eta \u001b[36m0:00:00\u001b[0m\n",
            "\u001b[2K     \u001b[90m━━━━━━━━━━━━━━━━━━━━━━━━━━━━━━━━━━━━━━━━\u001b[0m \u001b[32m21.6/21.6 MB\u001b[0m \u001b[31m41.6 MB/s\u001b[0m eta \u001b[36m0:00:00\u001b[0m\n",
            "\u001b[2K     \u001b[90m━━━━━━━━━━━━━━━━━━━━━━━━━━━━━━━━━━━━━━━━\u001b[0m \u001b[32m467.2/467.2 kB\u001b[0m \u001b[31m26.8 MB/s\u001b[0m eta \u001b[36m0:00:00\u001b[0m\n",
            "\u001b[2K     \u001b[90m━━━━━━━━━━━━━━━━━━━━━━━━━━━━━━━━━━━━━━━━\u001b[0m \u001b[32m62.7/62.7 kB\u001b[0m \u001b[31m4.4 MB/s\u001b[0m eta \u001b[36m0:00:00\u001b[0m\n",
            "\u001b[2K     \u001b[90m━━━━━━━━━━━━━━━━━━━━━━━━━━━━━━━━━━━━━━━━\u001b[0m \u001b[32m856.7/856.7 kB\u001b[0m \u001b[31m41.1 MB/s\u001b[0m eta \u001b[36m0:00:00\u001b[0m\n",
            "\u001b[2K     \u001b[90m━━━━━━━━━━━━━━━━━━━━━━━━━━━━━━━━━━━━━━━━\u001b[0m \u001b[32m98.7/98.7 kB\u001b[0m \u001b[31m7.9 MB/s\u001b[0m eta \u001b[36m0:00:00\u001b[0m\n",
            "\u001b[2K     \u001b[90m━━━━━━━━━━━━━━━━━━━━━━━━━━━━━━━━━━━━━━━━\u001b[0m \u001b[32m194.4/194.4 kB\u001b[0m \u001b[31m17.4 MB/s\u001b[0m eta \u001b[36m0:00:00\u001b[0m\n",
            "\u001b[2K     \u001b[90m━━━━━━━━━━━━━━━━━━━━━━━━━━━━━━━━━━━━━━━━\u001b[0m \u001b[32m2.1/2.1 MB\u001b[0m \u001b[31m55.9 MB/s\u001b[0m eta \u001b[36m0:00:00\u001b[0m\n",
            "\u001b[2K     \u001b[90m━━━━━━━━━━━━━━━━━━━━━━━━━━━━━━━━━━━━━━━━\u001b[0m \u001b[32m3.0/3.0 MB\u001b[0m \u001b[31m79.6 MB/s\u001b[0m eta \u001b[36m0:00:00\u001b[0m\n",
            "\u001b[?25h  Building wheel for docx2txt (setup.py) ... \u001b[?25l\u001b[?25hdone\n"
          ]
        }
      ],
      "source": [
        "!pip install -q 'crewai[tools]'"
      ]
    },
    {
      "cell_type": "code",
      "execution_count": 3,
      "metadata": {
        "colab": {
          "base_uri": "https://localhost:8080/"
        },
        "id": "2bemxQVZvne1",
        "outputId": "c2f10ede-bbdf-4b12-dd05-ac7c52dac4db"
      },
      "outputs": [
        {
          "output_type": "stream",
          "name": "stdout",
          "text": [
            "Requirement already satisfied: python-dotenv in /usr/local/lib/python3.10/dist-packages (1.0.1)\n"
          ]
        }
      ],
      "source": [
        "!pip install python-dotenv"
      ]
    },
    {
      "cell_type": "code",
      "execution_count": 5,
      "metadata": {
        "colab": {
          "base_uri": "https://localhost:8080/"
        },
        "id": "TQufYW2mzVRj",
        "outputId": "f2718167-73ff-4ac4-b3e7-c0072d2aa6ec"
      },
      "outputs": [
        {
          "output_type": "stream",
          "name": "stdout",
          "text": [
            "The dotenv extension is already loaded. To reload it, use:\n",
            "  %reload_ext dotenv\n"
          ]
        }
      ],
      "source": [
        "%load_ext dotenv\n",
        "%dotenv"
      ]
    },
    {
      "cell_type": "code",
      "execution_count": 6,
      "metadata": {
        "id": "pRPHNMdE0Y52"
      },
      "outputs": [],
      "source": [
        "import os\n",
        "from crewai import Agent, Task, Crew, Process\n",
        "from crewai_tools import SerperDevTool"
      ]
    },
    {
      "cell_type": "code",
      "execution_count": 7,
      "metadata": {
        "id": "nuQzyLvP0sXp"
      },
      "outputs": [],
      "source": [
        "search_tool = SerperDevTool()"
      ]
    },
    {
      "cell_type": "code",
      "execution_count": 8,
      "metadata": {
        "id": "mvaFVRXd0w6D"
      },
      "outputs": [],
      "source": [
        "from langchain_openai import ChatOpenAI"
      ]
    },
    {
      "cell_type": "code",
      "execution_count": 22,
      "metadata": {
        "id": "CwBwDbW81m0l"
      },
      "outputs": [],
      "source": [
        "researcheronAI = Agent(\n",
        "    role = \"Senior Research Assistant\",\n",
        "    goal = \"Look up the latest advancements in AI including Generative AI\",\n",
        "    backstory = \"\"\"You work at a leading tech think thank.\n",
        "    Your expertise lies in searching Google for advancements and latest on Generative AI and LLM.\n",
        "    You have a knack for dissecting complex data and presenting actionable insights. \"\"\",\n",
        "    verbose=False,\n",
        "    allow_delegation=False,\n",
        "    tools=[search_tool],\n",
        "    llm=ChatOpenAI(model_name=\"gpt-4-turbo-preview\", temperature=0.3)\n",
        ")\n",
        "\n",
        "researcheronAIWebsite = Agent(\n",
        "    role = \"Senior Research Assistant\",\n",
        "    goal = \"Look up the latest advancements in AI including Generative AI\",\n",
        "    backstory = \"\"\"You work at a leading tech think thank.\n",
        "    Your expertise lies in searching Google for advancements and latest on Generative AI and LLM specifically on websites like news.mit.edu/topic/artificial-intelligence2, aitrends.com, analyticsinsight.net,wired.com,  TechCrunch, OpenAI, ExtremeTech, Emerj, artificialintelligence-news.com.\n",
        "    You have a knack for dissecting complex data and presenting actionable insights. \"\"\",\n",
        "    verbose=False,\n",
        "    allow_delegation=False,\n",
        "    tools=[search_tool],\n",
        "    llm=ChatOpenAI(model_name=\"gpt-4-turbo-preview\", temperature=0.3)\n",
        ")\n",
        "\n",
        "researcherOnAgent = Agent(\n",
        "    role = \"Senior Research Assistant\",\n",
        "    goal = \"Look up the latest advancements in AI more specifically on AI Agents and frameworks that help in creating  AI agents\",\n",
        "    backstory = \"\"\"You work at a leading tech think thank.\n",
        "    Your expertise lies in searching Google for AI Agent frameworks.\n",
        "    You have a knack for dissecting complex data and presenting actionable insights. \"\"\",\n",
        "    verbose=False,\n",
        "    allow_delegation=False,\n",
        "    tools=[search_tool],\n",
        "    llm=ChatOpenAI(model_name=\"gpt-4-turbo-preview\", temperature=0.3)\n",
        ")"
      ]
    },
    {
      "cell_type": "code",
      "execution_count": 23,
      "metadata": {
        "id": "TEQB_u_w2aiJ"
      },
      "outputs": [],
      "source": [
        "writer = Agent(\n",
        "    role='Professional Article Writer',\n",
        "    goal='summarize the latest advancement in a article that can be read in 5mins',\n",
        "    backstory=\"\"\"You are a renowned Content Strategist, known for your insightful and engaging articles.\n",
        "    You transform complex concepts into compelling narratives.\"\"\",\n",
        "    verbose=False,\n",
        "    allow_delegation=True,\n",
        "    llm=ChatOpenAI(model_name=\"gpt-4-turbo-preview\", temperature=0.7)\n",
        ")"
      ]
    },
    {
      "cell_type": "code",
      "execution_count": 24,
      "metadata": {
        "id": "gRvVOt_L3lA_"
      },
      "outputs": [],
      "source": [
        "task1 = Task(\n",
        "    description = \"\"\"Conduct a comprehensive analysis of the latest advancements in Generative AI in May 2024.\n",
        "    Identify key trends, breakthrough technologies, and potential industry impacts.\"\"\",\n",
        "    expected_output=\"Full analysis report in bullet points described in detail\",\n",
        "    agent=researcheronAIWebsite\n",
        ")\n",
        "\n",
        "task3 = Task(\n",
        "    description = \"\"\"Conduct a comprehensive analysis of the latest advancements in AI agents in May 2024.\n",
        "    Identify key trends, breakthrough technologies, and potential industry impacts.\"\"\",\n",
        "    expected_output=\"Full analysis report in bullet points described in detail\",\n",
        "    agent=researcherOnAgent\n",
        ")"
      ]
    },
    {
      "cell_type": "code",
      "execution_count": 25,
      "metadata": {
        "id": "IwYirTGx4h2d"
      },
      "outputs": [],
      "source": [
        "task2 = Task(\n",
        "    description = \"\"\"Using the insights provided, write an article\n",
        "    that highlights the most significant Generative AI advancements.\n",
        "    Your post should be informative yet accessible, catering to a tech-savvy audience.\n",
        "    \"\"\",\n",
        "    expected_output=\"Full blog post of at least 3 paragraphs\",\n",
        "    agent=writer\n",
        ")"
      ]
    },
    {
      "cell_type": "code",
      "execution_count": 26,
      "metadata": {
        "id": "CgX7_Zrb5GzV",
        "outputId": "cce9fa47-a233-452d-96fd-967e82a766e5",
        "colab": {
          "base_uri": "https://localhost:8080/"
        }
      },
      "outputs": [
        {
          "output_type": "stream",
          "name": "stderr",
          "text": [
            "WARNING:opentelemetry.trace:Overriding of current TracerProvider is not allowed\n",
            "WARNING:opentelemetry.trace:Overriding of current TracerProvider is not allowed\n"
          ]
        }
      ],
      "source": [
        "# Instantiate a crew with a sequential process\n",
        "crewGenAI = Crew(\n",
        "    agents = [researcheronAIWebsite, writer],\n",
        "    tasks = [task1, task2],\n",
        "    verbose =1,\n",
        ")\n",
        "\n",
        "crewAgent = Crew(\n",
        "    agents = [researcherOnAgent, writer],\n",
        "    tasks = [task3],\n",
        "    verbose =1,\n",
        ")"
      ]
    },
    {
      "cell_type": "code",
      "execution_count": 27,
      "metadata": {
        "colab": {
          "base_uri": "https://localhost:8080/"
        },
        "id": "9U7TxEXl5lVM",
        "outputId": "c1c02d8e-0a78-45ad-8c33-3c81eea2ab18"
      },
      "outputs": [
        {
          "output_type": "stream",
          "name": "stdout",
          "text": [
            "\u001b[1m\u001b[95m [DEBUG]: == Working Agent: Senior Research Assistant\u001b[00m\n",
            "\u001b[95m \n",
            "\n",
            "\n",
            "Search results: Title: MIT launches Working Group on Generative AI and the ... - MIT News\n",
            "Link: https://news.mit.edu/2024/mit-launches-working-group-generative-ai-and-work-of-the-future-0328\n",
            "Snippet: New initiative is convening leading companies and nonprofits with support from Google's Community Grants Fund. MIT Industrial Performance Center.\n",
            "---\n",
            "Title: National Technology Day: Groundbreaking Innovations of 2024\n",
            "Link: https://www.analyticsinsight.net/artificial-intelligence/national-technology-day-groundbreaking-innovations-of-2024-2\n",
            "Snippet: From cutting-edge advancements in artificial intelligence (AI) to transformative breakthroughs in telecommunications and digital infrastructure, ...\n",
            "---\n",
            "Title: Generative AI Doesn't Make Hardware Less Hard - WIRED\n",
            "Link: https://www.wired.com/story/generative-ai-doesnt-make-hardware-less-hard/\n",
            "Snippet: May 13, 2024 6:30 AM. Generative AI Doesn't Make Hardware Less Hard. Wearable AI gadgets from Rabbit and Humane were panned by reviewers, including at WIRED ...\n",
            "---\n",
            "Title: What advancements are expected in AI by 2024?\n",
            "Link: https://community.openai.com/t/darshan-hiranandani-what-advancements-are-expected-in-ai-by-2024/699019\n",
            "Snippet: Hi, I'm Darshan Hiranandani, eager to dive into the world of AI and machine learning, but I'm not sure where to begin.\n",
            "---\n",
            "Title: The creative future of generative AI | MIT News\n",
            "Link: https://news.mit.edu/2024/creative-future-generative-ai-0102\n",
            "Snippet: The future of generative AI and its impact on art and design was the subject of a sold-out panel discussion at MIT.\n",
            "---\n",
            "Title: How Generative AI will Transform Industries in 2024 - Analytics Insight\n",
            "Link: https://www.analyticsinsight.net/generative-ai/how-generative-ai-will-transform-industries-in-2024\n",
            "Snippet: In this all-encompassing guide, we shall delve into the most prominent Generative AI trends for 2024 and elucidate their potential implications ...\n",
            "---\n",
            "Title: Generative AI in 2024: Opportunities, Risks, and Implications\n",
            "Link: https://www.analyticsinsight.net/generative-ai/generative-ai-in-2024-opportunities-risks-and-implications\n",
            "Snippet: Generative Artificial Intelligence (Generative AI) has witnessed remarkable advancements, making waves across various industries and ...\n",
            "---\n",
            "Title: 5 Ways Generative AI Will Transform the World in 2024\n",
            "Link: https://www.analyticsinsight.net/artificial-intelligence/5-ways-generative-ai-will-transform-the-world-in-2024\n",
            "Snippet: Significant advancements in multimodal AI will revolutionize creative capacities by 2024. ... generative AI models in 2024 ... 12 May 2024, 3:30 am.\n",
            "---\n",
            "Title: The Unsexy Future of Generative AI Is Enterprise Apps - WIRED\n",
            "Link: https://www.wired.com/story/unsexy-future-generative-ai-enterprise-apps/\n",
            "Snippet: May 2, 2024 6:00 AM. The Unsexy Future of Generative AI Is Enterprise Apps. Some startups that launched buzzy generative AI products are now ...\n",
            "---\n",
            "Title: What are your predictions for 2024 in AI? - OpenAI Developer Forum\n",
            "Link: https://community.openai.com/t/what-are-your-predictions-for-2024-in-ai/577161\n",
            "Snippet: I suspect trustworthy math and application of such will be a big area of focus moving forward. We may start to see iterative “training schedules ...\n",
            "---\n",
            "\n",
            "\u001b[00m\n",
            "\u001b[1m\u001b[92m [DEBUG]: == [Senior Research Assistant] Task output: - **MIT's New Initiative on Generative AI and Work**: MIT has launched a working group focused on Generative AI and its implications for the future of work. This initiative, supported by Google's Community Grants Fund, aims to bring together leading companies and nonprofits to explore the intersection of AI, employment, and industry productivity. This suggests a growing recognition of the need to understand and mitigate the potential disruptions caused by AI technologies in the labor market.\n",
            "  \n",
            "- **National Technology Day Highlights**: The celebration of groundbreaking innovations in 2024, as reported by Analytics Insight, underscores the significant role of AI in driving advancements across various sectors, including telecommunications and digital infrastructure. While not exclusively focused on Generative AI, this context highlights the broader ecosystem within which Generative AI innovations are occurring.\n",
            "\n",
            "- **Generative AI and Hardware Challenges**: A WIRED article points out that despite the advancements in Generative AI, the development and refinement of hardware for AI applications remain challenging. This suggests that while software and algorithms advance rapidly, the physical components needed to support these technologies still face significant hurdles.\n",
            "\n",
            "- **Generative AI's Impact on Industries**: Analytics Insight provides an all-encompassing guide on how Generative AI is expected to transform industries in 2024. This includes a focus on prominent trends and their potential implications, indicating that Generative AI is at the forefront of technological innovation with wide-reaching effects across various sectors.\n",
            "\n",
            "- **Opportunities, Risks, and Implications of Generative AI**: Another piece from Analytics Insight delves into the opportunities, risks, and implications of Generative AI advancements. This reflects a balanced view of the technology, acknowledging its potential to revolutionize industries while also considering the ethical, security, and societal challenges it poses.\n",
            "\n",
            "- **Transformation of Creative Capacities through Multimodal AI**: Significant advancements in multimodal AI, as reported by Analytics Insight, are set to revolutionize creative capacities. This points to the evolution of Generative AI from text and image generation to more complex, integrated applications that can mimic human creativity across multiple domains.\n",
            "\n",
            "- **Enterprise Applications of Generative AI**: A WIRED article discusses the shift of some startups towards developing enterprise applications for Generative AI, moving away from consumer-focused products. This \"unsexy future\" suggests a maturation of the market, where the value of Generative AI is increasingly found in practical, business-oriented solutions rather than in novelty applications.\n",
            "\n",
            "In summary, as of May 2024, the landscape of Generative AI is characterized by its expanding influence across industries, the ongoing challenge of developing supporting hardware, and a shift towards practical enterprise applications. The technology's potential to disrupt the labor market is being addressed through initiatives like MIT's working group, while the creative and multimodal capabilities of AI continue to evolve. However, the field remains cognizant of the risks and ethical implications associated with these rapid advancements.\n",
            "\n",
            "\u001b[00m\n",
            "\u001b[1m\u001b[95m [DEBUG]: == Working Agent: Professional Article Writer\u001b[00m\n",
            "\u001b[1m\u001b[92m [DEBUG]: == [Professional Article Writer] Task output: Title: Navigating the New Frontier: Generative AI’s Transformative Impact Across Industries\n",
            "\n",
            "As we stand on the precipice of technological evolution, Generative Artificial Intelligence (AI) emerges as a beacon of innovation, promising to redefine the boundaries of what machines can achieve. At the heart of this revolution is the MIT Initiative on Generative AI and Work, a groundbreaking effort supported by Google's Community Grants Fund. This initiative brings together leading entities from various sectors to scrutinize the implications of Generative AI on the workforce and industry productivity. Such collaborative endeavors underscore the urgent need to harmonize AI's rapid growth with the labor market's fluid dynamics, ensuring a future where technology amplifies human potential rather than eclipsing it.\n",
            "\n",
            "The celebration of National Technology Day in 2024 spotlights the pivotal role of AI in propelling advancements across telecommunications, digital infrastructure, and beyond. While not limited to Generative AI, this event casts a wider net over the technological ecosystem, highlighting the interconnectedness of AI innovations. However, as we marvel at the software and algorithmic leaps, a WIRED article reminds us of the persistent challenges in developing the hardware necessary to sustain these advancements. This dichotomy between software ingenuity and hardware limitations frames a critical battleground in the quest to actualize AI's full potential.\n",
            "\n",
            "Generative AI's influence stretches across industries, heralding a new era of innovation and transformation. From redefining creative capacities through multimodal AI to shifting the focus toward enterprise applications, this technology is at the forefront of a paradigm shift. Analytics Insight's comprehensive guide illuminates how Generative AI is poised to revolutionize industries in 2024, underscoring its role as a harbinger of change. Yet, amidst this technological euphoria, it's imperative to navigate the ethical, security, and societal challenges that accompany such rapid progress. The nuanced understanding of Generative AI's opportunities and risks paves the way for a future where technology and humanity coexist in harmony, leveraging artificial creativity and practical solutions to foster an inclusive, innovative, and sustainable world.\n",
            "\n",
            "In conclusion, as we traverse this transformative landscape, the advancements in Generative AI offer a glimpse into a future brimming with possibilities. From tackling the complexities of hardware development to exploring the multifaceted applications in various industries, the journey of Generative AI is one of exploration, innovation, and ethical consideration. As we embrace this new frontier, the collaborative efforts of initiatives like MIT's, coupled with a balanced perspective on the technology's implications, will be instrumental in shaping a future where Generative AI serves as a catalyst for positive change, enriching our lives and industries alike.\n",
            "\n",
            "\u001b[00m\n",
            "###################Generative AI##############################\n",
            "Title: Navigating the New Frontier: Generative AI’s Transformative Impact Across Industries\n",
            "\n",
            "As we stand on the precipice of technological evolution, Generative Artificial Intelligence (AI) emerges as a beacon of innovation, promising to redefine the boundaries of what machines can achieve. At the heart of this revolution is the MIT Initiative on Generative AI and Work, a groundbreaking effort supported by Google's Community Grants Fund. This initiative brings together leading entities from various sectors to scrutinize the implications of Generative AI on the workforce and industry productivity. Such collaborative endeavors underscore the urgent need to harmonize AI's rapid growth with the labor market's fluid dynamics, ensuring a future where technology amplifies human potential rather than eclipsing it.\n",
            "\n",
            "The celebration of National Technology Day in 2024 spotlights the pivotal role of AI in propelling advancements across telecommunications, digital infrastructure, and beyond. While not limited to Generative AI, this event casts a wider net over the technological ecosystem, highlighting the interconnectedness of AI innovations. However, as we marvel at the software and algorithmic leaps, a WIRED article reminds us of the persistent challenges in developing the hardware necessary to sustain these advancements. This dichotomy between software ingenuity and hardware limitations frames a critical battleground in the quest to actualize AI's full potential.\n",
            "\n",
            "Generative AI's influence stretches across industries, heralding a new era of innovation and transformation. From redefining creative capacities through multimodal AI to shifting the focus toward enterprise applications, this technology is at the forefront of a paradigm shift. Analytics Insight's comprehensive guide illuminates how Generative AI is poised to revolutionize industries in 2024, underscoring its role as a harbinger of change. Yet, amidst this technological euphoria, it's imperative to navigate the ethical, security, and societal challenges that accompany such rapid progress. The nuanced understanding of Generative AI's opportunities and risks paves the way for a future where technology and humanity coexist in harmony, leveraging artificial creativity and practical solutions to foster an inclusive, innovative, and sustainable world.\n",
            "\n",
            "In conclusion, as we traverse this transformative landscape, the advancements in Generative AI offer a glimpse into a future brimming with possibilities. From tackling the complexities of hardware development to exploring the multifaceted applications in various industries, the journey of Generative AI is one of exploration, innovation, and ethical consideration. As we embrace this new frontier, the collaborative efforts of initiatives like MIT's, coupled with a balanced perspective on the technology's implications, will be instrumental in shaping a future where Generative AI serves as a catalyst for positive change, enriching our lives and industries alike.\n"
          ]
        }
      ],
      "source": [
        "result = crewGenAI.kickoff()\n",
        "print(\"###################Generative AI##############################\")\n",
        "print(result)\n",
        "\n",
        "#result = crewAgent.kickoff()\n",
        "#print(\"###################AI Agents##############################\")\n",
        "#print(result)"
      ]
    }
  ],
  "metadata": {
    "colab": {
      "provenance": [],
      "authorship_tag": "ABX9TyObJyel39ojWSMyEOna2EhQ",
      "include_colab_link": true
    },
    "kernelspec": {
      "display_name": "Python 3",
      "name": "python3"
    },
    "language_info": {
      "name": "python"
    }
  },
  "nbformat": 4,
  "nbformat_minor": 0
}